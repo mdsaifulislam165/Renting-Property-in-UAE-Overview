{
 "cells": [
  {
   "cell_type": "markdown",
   "id": "c04134eb",
   "metadata": {},
   "source": [
    "# Analysis of Renting Property in UAE\n",
    "\n",
    "The purpose of this project is to get an overview of the renting property in UAE. This notebook uses `pandas` library to load the scraped `csv` file, clean it, transform the data where necessary and prepare it to work on visualization purposes.\n",
    "\n",
    "###  &#9656; Source: [Property Finder](https://www.propertyfinder.ae)\n",
    "\n",
    "## Column Details:\n",
    "1. Verification Status\n",
    "    - Verified\n",
    "    - Not Verified\n",
    "2. Agent Type\n",
    "    - Superagent\n",
    "    - Not Superagent\n",
    "3. Property Type\n",
    "    - Apartment\n",
    "    - Villa\n",
    "    - Townhouse\n",
    "    - Hotel & Hotel Apartment\n",
    "    - Duplex\n",
    "    - Penthouse\n",
    "    - Compound\n",
    "    - Bungalow\n",
    "    - Full Floor\n",
    "    - Half Floor\n",
    "    - Bulk Rent Unit\n",
    "4. Rent Amount (AED/YR)\n",
    "    - Numerical value type ranging from MIN___________ to MAX\n",
    "5. Features\n",
    "    - Custom User Input \n",
    "6. Listing Level\n",
    "    - Featured\n",
    "    - Premium\n",
    "    - Not Premium\n",
    "7. Location\n",
    "    - City\n",
    "        - Dubai\n",
    "        - Abu Dhabi\n",
    "        - Sharjah\n",
    "        - Ajman\n",
    "        - Ras Al Khaimah\n",
    "        - Al Ain\n",
    "        - Fujairah\n",
    "        - Umm Al Quwain\n",
    "    - Area: Value ranging 300+ areas\n",
    "8. No of Bedroom\n",
    "    - Non categorical value type; ranging from 1 to 7+ bedrooms\n",
    "9. No of Bathroom\n",
    "    - Non categorical value type; ranging from 1 to 7+ bathrooms\n",
    "10. Area in sqft\n",
    "    - Numerical value type ranging from MIN___________ to MAX"
   ]
  },
  {
   "cell_type": "markdown",
   "id": "30756db6",
   "metadata": {},
   "source": [
    "### Importing necessary libraries"
   ]
  },
  {
   "cell_type": "code",
   "execution_count": 1,
   "id": "dc3bec24",
   "metadata": {},
   "outputs": [],
   "source": [
    "import pandas as pd\n",
    "\n",
    "# To avoid warnings\n",
    "import warnings\n",
    "warnings.filterwarnings('ignore')"
   ]
  },
  {
   "cell_type": "markdown",
   "id": "32bb62f2",
   "metadata": {},
   "source": [
    "### Loading and Analyzing the data in a dataframe"
   ]
  },
  {
   "cell_type": "code",
   "execution_count": 2,
   "id": "cd7f83ac",
   "metadata": {},
   "outputs": [],
   "source": [
    "df = pd.read_csv(\"Property_Finder_Rent_Items_in_Abu_Dhabi.csv\")"
   ]
  },
  {
   "cell_type": "code",
   "execution_count": 3,
   "id": "e5db77ae",
   "metadata": {},
   "outputs": [
    {
     "data": {
      "text/html": [
       "<div>\n",
       "<style scoped>\n",
       "    .dataframe tbody tr th:only-of-type {\n",
       "        vertical-align: middle;\n",
       "    }\n",
       "\n",
       "    .dataframe tbody tr th {\n",
       "        vertical-align: top;\n",
       "    }\n",
       "\n",
       "    .dataframe thead th {\n",
       "        text-align: right;\n",
       "    }\n",
       "</style>\n",
       "<table border=\"1\" class=\"dataframe\">\n",
       "  <thead>\n",
       "    <tr style=\"text-align: right;\">\n",
       "      <th></th>\n",
       "      <th>Verification Status</th>\n",
       "      <th>Agent Type</th>\n",
       "      <th>Property Type</th>\n",
       "      <th>Rent Amount (AED/YR)</th>\n",
       "      <th>Features</th>\n",
       "      <th>Listing Level</th>\n",
       "      <th>Location</th>\n",
       "      <th>No of Bedroom</th>\n",
       "      <th>No of Bathroom</th>\n",
       "      <th>Area in sqft</th>\n",
       "    </tr>\n",
       "  </thead>\n",
       "  <tbody>\n",
       "    <tr>\n",
       "      <th>0</th>\n",
       "      <td>Verified</td>\n",
       "      <td>Superagent</td>\n",
       "      <td>Villa</td>\n",
       "      <td>500000.0</td>\n",
       "      <td>Brand New | Spacious | Modern | Garden Suite</td>\n",
       "      <td>Premium</td>\n",
       "      <td>Harmony 2, Harmony, Tilal Al Ghaf, Dubai</td>\n",
       "      <td>4</td>\n",
       "      <td>5</td>\n",
       "      <td>4016.0</td>\n",
       "    </tr>\n",
       "    <tr>\n",
       "      <th>1</th>\n",
       "      <td>Verified</td>\n",
       "      <td>Superagent</td>\n",
       "      <td>Apartment</td>\n",
       "      <td>150000.0</td>\n",
       "      <td>Canal Views | Ready to Move in | Multiple Cheques</td>\n",
       "      <td>Premium</td>\n",
       "      <td>Elite Business Bay Residence, Business Bay, Dubai</td>\n",
       "      <td>2</td>\n",
       "      <td>3</td>\n",
       "      <td>1309.0</td>\n",
       "    </tr>\n",
       "    <tr>\n",
       "      <th>2</th>\n",
       "      <td>Verified</td>\n",
       "      <td>Superagent</td>\n",
       "      <td>Villa</td>\n",
       "      <td>450000.0</td>\n",
       "      <td>Biggest Plot | Corner Villa | New To The Market</td>\n",
       "      <td>Premium</td>\n",
       "      <td>Murooj Al Furjan, Al Furjan, Dubai</td>\n",
       "      <td>4</td>\n",
       "      <td>5</td>\n",
       "      <td>7767.0</td>\n",
       "    </tr>\n",
       "    <tr>\n",
       "      <th>3</th>\n",
       "      <td>Verified</td>\n",
       "      <td>Superagent</td>\n",
       "      <td>Villa</td>\n",
       "      <td>500000.0</td>\n",
       "      <td>Prime Location | Lake Views | Vacant Now</td>\n",
       "      <td>Premium</td>\n",
       "      <td>Legacy, Jumeirah Park, Dubai</td>\n",
       "      <td>5</td>\n",
       "      <td>6</td>\n",
       "      <td>4689.0</td>\n",
       "    </tr>\n",
       "    <tr>\n",
       "      <th>4</th>\n",
       "      <td>Verified</td>\n",
       "      <td>Superagent</td>\n",
       "      <td>Townhouse</td>\n",
       "      <td>225000.0</td>\n",
       "      <td>4-Story Townhouse | Upgraded | Vacant Now</td>\n",
       "      <td>Premium</td>\n",
       "      <td>Mirabella 1, Mirabella, Jumeirah Village Circl...</td>\n",
       "      <td>4</td>\n",
       "      <td>5</td>\n",
       "      <td>3365.0</td>\n",
       "    </tr>\n",
       "    <tr>\n",
       "      <th>...</th>\n",
       "      <td>...</td>\n",
       "      <td>...</td>\n",
       "      <td>...</td>\n",
       "      <td>...</td>\n",
       "      <td>...</td>\n",
       "      <td>...</td>\n",
       "      <td>...</td>\n",
       "      <td>...</td>\n",
       "      <td>...</td>\n",
       "      <td>...</td>\n",
       "    </tr>\n",
       "    <tr>\n",
       "      <th>99970</th>\n",
       "      <td>Not Verified</td>\n",
       "      <td>Not Superagent</td>\n",
       "      <td>Apartment</td>\n",
       "      <td>33999.0</td>\n",
       "      <td>Two-Bedroom Apartment for Rent in Ajman Corniche</td>\n",
       "      <td>Not Premium</td>\n",
       "      <td>Ajman Corniche Road, Ajman</td>\n",
       "      <td>2</td>\n",
       "      <td>2</td>\n",
       "      <td>1450.0</td>\n",
       "    </tr>\n",
       "    <tr>\n",
       "      <th>99971</th>\n",
       "      <td>Not Verified</td>\n",
       "      <td>Not Superagent</td>\n",
       "      <td>Apartment</td>\n",
       "      <td>47999.0</td>\n",
       "      <td>Three-Bedroom Apartment for Rent in Al Naimiyah2</td>\n",
       "      <td>Not Premium</td>\n",
       "      <td>Al Nuaimiya, Ajman</td>\n",
       "      <td>3</td>\n",
       "      <td>2</td>\n",
       "      <td>1550.0</td>\n",
       "    </tr>\n",
       "    <tr>\n",
       "      <th>99972</th>\n",
       "      <td>Not Verified</td>\n",
       "      <td>Not Superagent</td>\n",
       "      <td>Apartment</td>\n",
       "      <td>17000.0</td>\n",
       "      <td>Separate kitchen studio available with balcony...</td>\n",
       "      <td>Not Premium</td>\n",
       "      <td>Muwaileh, Sharjah</td>\n",
       "      <td>studio</td>\n",
       "      <td>1</td>\n",
       "      <td>450.0</td>\n",
       "    </tr>\n",
       "    <tr>\n",
       "      <th>99973</th>\n",
       "      <td>Not Verified</td>\n",
       "      <td>Not Superagent</td>\n",
       "      <td>Apartment</td>\n",
       "      <td>29000.0</td>\n",
       "      <td>Brand New Studio with Kitchen &amp;amp;Proper Wash...</td>\n",
       "      <td>Not Premium</td>\n",
       "      <td>Khalifa City, Abu Dhabi</td>\n",
       "      <td>studio</td>\n",
       "      <td>1</td>\n",
       "      <td>600.0</td>\n",
       "    </tr>\n",
       "    <tr>\n",
       "      <th>99974</th>\n",
       "      <td>Not Verified</td>\n",
       "      <td>Not Superagent</td>\n",
       "      <td>Apartment</td>\n",
       "      <td>41000.0</td>\n",
       "      <td>A luxury apartment Parking free for family Nea...</td>\n",
       "      <td>Not Premium</td>\n",
       "      <td>Al Nahda, Sharjah</td>\n",
       "      <td>1</td>\n",
       "      <td>2</td>\n",
       "      <td>1050.0</td>\n",
       "    </tr>\n",
       "  </tbody>\n",
       "</table>\n",
       "<p>99975 rows × 10 columns</p>\n",
       "</div>"
      ],
      "text/plain": [
       "      Verification Status      Agent Type Property Type  Rent Amount (AED/YR)  \\\n",
       "0                Verified      Superagent         Villa              500000.0   \n",
       "1                Verified      Superagent     Apartment              150000.0   \n",
       "2                Verified      Superagent         Villa              450000.0   \n",
       "3                Verified      Superagent         Villa              500000.0   \n",
       "4                Verified      Superagent     Townhouse              225000.0   \n",
       "...                   ...             ...           ...                   ...   \n",
       "99970        Not Verified  Not Superagent     Apartment               33999.0   \n",
       "99971        Not Verified  Not Superagent     Apartment               47999.0   \n",
       "99972        Not Verified  Not Superagent     Apartment               17000.0   \n",
       "99973        Not Verified  Not Superagent     Apartment               29000.0   \n",
       "99974        Not Verified  Not Superagent     Apartment               41000.0   \n",
       "\n",
       "                                                Features Listing Level  \\\n",
       "0           Brand New | Spacious | Modern | Garden Suite       Premium   \n",
       "1      Canal Views | Ready to Move in | Multiple Cheques       Premium   \n",
       "2        Biggest Plot | Corner Villa | New To The Market       Premium   \n",
       "3               Prime Location | Lake Views | Vacant Now       Premium   \n",
       "4              4-Story Townhouse | Upgraded | Vacant Now       Premium   \n",
       "...                                                  ...           ...   \n",
       "99970   Two-Bedroom Apartment for Rent in Ajman Corniche   Not Premium   \n",
       "99971   Three-Bedroom Apartment for Rent in Al Naimiyah2   Not Premium   \n",
       "99972  Separate kitchen studio available with balcony...   Not Premium   \n",
       "99973  Brand New Studio with Kitchen &amp;Proper Wash...   Not Premium   \n",
       "99974  A luxury apartment Parking free for family Nea...   Not Premium   \n",
       "\n",
       "                                                Location No of Bedroom  \\\n",
       "0               Harmony 2, Harmony, Tilal Al Ghaf, Dubai             4   \n",
       "1      Elite Business Bay Residence, Business Bay, Dubai             2   \n",
       "2                     Murooj Al Furjan, Al Furjan, Dubai             4   \n",
       "3                           Legacy, Jumeirah Park, Dubai             5   \n",
       "4      Mirabella 1, Mirabella, Jumeirah Village Circl...             4   \n",
       "...                                                  ...           ...   \n",
       "99970                         Ajman Corniche Road, Ajman             2   \n",
       "99971                                 Al Nuaimiya, Ajman             3   \n",
       "99972                                  Muwaileh, Sharjah        studio   \n",
       "99973                            Khalifa City, Abu Dhabi        studio   \n",
       "99974                                  Al Nahda, Sharjah             1   \n",
       "\n",
       "      No of Bathroom  Area in sqft  \n",
       "0                  5        4016.0  \n",
       "1                  3        1309.0  \n",
       "2                  5        7767.0  \n",
       "3                  6        4689.0  \n",
       "4                  5        3365.0  \n",
       "...              ...           ...  \n",
       "99970              2        1450.0  \n",
       "99971              2        1550.0  \n",
       "99972              1         450.0  \n",
       "99973              1         600.0  \n",
       "99974              2        1050.0  \n",
       "\n",
       "[99975 rows x 10 columns]"
      ]
     },
     "execution_count": 3,
     "metadata": {},
     "output_type": "execute_result"
    }
   ],
   "source": [
    "df"
   ]
  },
  {
   "cell_type": "code",
   "execution_count": 4,
   "id": "32f507ae",
   "metadata": {},
   "outputs": [
    {
     "data": {
      "text/plain": [
       "(99975, 10)"
      ]
     },
     "execution_count": 4,
     "metadata": {},
     "output_type": "execute_result"
    }
   ],
   "source": [
    "df.shape  # The dataframe has 10 columns and 99975 rows"
   ]
  },
  {
   "cell_type": "code",
   "execution_count": 5,
   "id": "0687edc3",
   "metadata": {},
   "outputs": [
    {
     "data": {
      "text/plain": [
       "Index(['Verification Status', 'Agent Type', 'Property Type',\n",
       "       'Rent Amount (AED/YR)', 'Features', 'Listing Level', 'Location',\n",
       "       'No of Bedroom', 'No of Bathroom', 'Area in sqft'],\n",
       "      dtype='object')"
      ]
     },
     "execution_count": 5,
     "metadata": {},
     "output_type": "execute_result"
    }
   ],
   "source": [
    "df.columns  # The name of the columns"
   ]
  },
  {
   "cell_type": "code",
   "execution_count": 6,
   "id": "83c4354c",
   "metadata": {
    "scrolled": true
   },
   "outputs": [
    {
     "name": "stdout",
     "output_type": "stream",
     "text": [
      "<class 'pandas.core.frame.DataFrame'>\n",
      "RangeIndex: 99975 entries, 0 to 99974\n",
      "Data columns (total 10 columns):\n",
      " #   Column                Non-Null Count  Dtype  \n",
      "---  ------                --------------  -----  \n",
      " 0   Verification Status   99975 non-null  object \n",
      " 1   Agent Type            99975 non-null  object \n",
      " 2   Property Type         99867 non-null  object \n",
      " 3   Rent Amount (AED/YR)  99867 non-null  float64\n",
      " 4   Features              99867 non-null  object \n",
      " 5   Listing Level         99867 non-null  object \n",
      " 6   Location              99867 non-null  object \n",
      " 7   No of Bedroom         99867 non-null  object \n",
      " 8   No of Bathroom        99867 non-null  object \n",
      " 9   Area in sqft          99867 non-null  float64\n",
      "dtypes: float64(2), object(8)\n",
      "memory usage: 7.6+ MB\n"
     ]
    }
   ],
   "source": [
    "df.info()  # overview of the data"
   ]
  },
  {
   "cell_type": "markdown",
   "id": "2cb1a245",
   "metadata": {},
   "source": [
    "> We can see that _Verification Status_ and _Agent Type_ columns have 99975 values; but the rest of the columns have 99867 values."
   ]
  },
  {
   "cell_type": "markdown",
   "id": "265128c5",
   "metadata": {},
   "source": [
    "#### Dealing with the missing values"
   ]
  },
  {
   "cell_type": "code",
   "execution_count": 7,
   "id": "9a47ebe8",
   "metadata": {},
   "outputs": [
    {
     "data": {
      "text/plain": [
       "Verification Status       0\n",
       "Agent Type                0\n",
       "Property Type           108\n",
       "Rent Amount (AED/YR)    108\n",
       "Features                108\n",
       "Listing Level           108\n",
       "Location                108\n",
       "No of Bedroom           108\n",
       "No of Bathroom          108\n",
       "Area in sqft            108\n",
       "dtype: int64"
      ]
     },
     "execution_count": 7,
     "metadata": {},
     "output_type": "execute_result"
    }
   ],
   "source": [
    "df.isnull().sum()  # Number of missing values for each column"
   ]
  },
  {
   "cell_type": "code",
   "execution_count": 8,
   "id": "5fc9a586",
   "metadata": {
    "scrolled": true
   },
   "outputs": [],
   "source": [
    "df.dropna(how=\"any\", inplace=True)  # dropping the rows with missing values"
   ]
  },
  {
   "cell_type": "code",
   "execution_count": 9,
   "id": "dba7eb7f",
   "metadata": {},
   "outputs": [
    {
     "data": {
      "text/plain": [
       "Verification Status     0\n",
       "Agent Type              0\n",
       "Property Type           0\n",
       "Rent Amount (AED/YR)    0\n",
       "Features                0\n",
       "Listing Level           0\n",
       "Location                0\n",
       "No of Bedroom           0\n",
       "No of Bathroom          0\n",
       "Area in sqft            0\n",
       "dtype: int64"
      ]
     },
     "metadata": {},
     "output_type": "display_data"
    }
   ],
   "source": [
    "display(df.isnull().sum())"
   ]
  },
  {
   "cell_type": "markdown",
   "id": "28036720",
   "metadata": {},
   "source": [
    ">Now there are no missing values in any column."
   ]
  },
  {
   "cell_type": "code",
   "execution_count": 10,
   "id": "1e175e00",
   "metadata": {},
   "outputs": [
    {
     "data": {
      "text/html": [
       "<div>\n",
       "<style scoped>\n",
       "    .dataframe tbody tr th:only-of-type {\n",
       "        vertical-align: middle;\n",
       "    }\n",
       "\n",
       "    .dataframe tbody tr th {\n",
       "        vertical-align: top;\n",
       "    }\n",
       "\n",
       "    .dataframe thead th {\n",
       "        text-align: right;\n",
       "    }\n",
       "</style>\n",
       "<table border=\"1\" class=\"dataframe\">\n",
       "  <thead>\n",
       "    <tr style=\"text-align: right;\">\n",
       "      <th></th>\n",
       "      <th>Verification Status</th>\n",
       "      <th>Agent Type</th>\n",
       "      <th>Property Type</th>\n",
       "      <th>Rent Amount (AED/YR)</th>\n",
       "      <th>Features</th>\n",
       "      <th>Listing Level</th>\n",
       "      <th>Location</th>\n",
       "      <th>No of Bedroom</th>\n",
       "      <th>No of Bathroom</th>\n",
       "      <th>Area in sqft</th>\n",
       "    </tr>\n",
       "  </thead>\n",
       "  <tbody>\n",
       "    <tr>\n",
       "      <th>0</th>\n",
       "      <td>Verified</td>\n",
       "      <td>Superagent</td>\n",
       "      <td>Villa</td>\n",
       "      <td>500000.0</td>\n",
       "      <td>Brand New | Spacious | Modern | Garden Suite</td>\n",
       "      <td>Premium</td>\n",
       "      <td>Harmony 2, Harmony, Tilal Al Ghaf, Dubai</td>\n",
       "      <td>4</td>\n",
       "      <td>5</td>\n",
       "      <td>4016.0</td>\n",
       "    </tr>\n",
       "    <tr>\n",
       "      <th>1</th>\n",
       "      <td>Verified</td>\n",
       "      <td>Superagent</td>\n",
       "      <td>Apartment</td>\n",
       "      <td>150000.0</td>\n",
       "      <td>Canal Views | Ready to Move in | Multiple Cheques</td>\n",
       "      <td>Premium</td>\n",
       "      <td>Elite Business Bay Residence, Business Bay, Dubai</td>\n",
       "      <td>2</td>\n",
       "      <td>3</td>\n",
       "      <td>1309.0</td>\n",
       "    </tr>\n",
       "    <tr>\n",
       "      <th>2</th>\n",
       "      <td>Verified</td>\n",
       "      <td>Superagent</td>\n",
       "      <td>Villa</td>\n",
       "      <td>450000.0</td>\n",
       "      <td>Biggest Plot | Corner Villa | New To The Market</td>\n",
       "      <td>Premium</td>\n",
       "      <td>Murooj Al Furjan, Al Furjan, Dubai</td>\n",
       "      <td>4</td>\n",
       "      <td>5</td>\n",
       "      <td>7767.0</td>\n",
       "    </tr>\n",
       "    <tr>\n",
       "      <th>3</th>\n",
       "      <td>Verified</td>\n",
       "      <td>Superagent</td>\n",
       "      <td>Villa</td>\n",
       "      <td>500000.0</td>\n",
       "      <td>Prime Location | Lake Views | Vacant Now</td>\n",
       "      <td>Premium</td>\n",
       "      <td>Legacy, Jumeirah Park, Dubai</td>\n",
       "      <td>5</td>\n",
       "      <td>6</td>\n",
       "      <td>4689.0</td>\n",
       "    </tr>\n",
       "    <tr>\n",
       "      <th>4</th>\n",
       "      <td>Verified</td>\n",
       "      <td>Superagent</td>\n",
       "      <td>Townhouse</td>\n",
       "      <td>225000.0</td>\n",
       "      <td>4-Story Townhouse | Upgraded | Vacant Now</td>\n",
       "      <td>Premium</td>\n",
       "      <td>Mirabella 1, Mirabella, Jumeirah Village Circl...</td>\n",
       "      <td>4</td>\n",
       "      <td>5</td>\n",
       "      <td>3365.0</td>\n",
       "    </tr>\n",
       "    <tr>\n",
       "      <th>...</th>\n",
       "      <td>...</td>\n",
       "      <td>...</td>\n",
       "      <td>...</td>\n",
       "      <td>...</td>\n",
       "      <td>...</td>\n",
       "      <td>...</td>\n",
       "      <td>...</td>\n",
       "      <td>...</td>\n",
       "      <td>...</td>\n",
       "      <td>...</td>\n",
       "    </tr>\n",
       "    <tr>\n",
       "      <th>99862</th>\n",
       "      <td>Not Verified</td>\n",
       "      <td>Not Superagent</td>\n",
       "      <td>Apartment</td>\n",
       "      <td>33999.0</td>\n",
       "      <td>Two-Bedroom Apartment for Rent in Ajman Corniche</td>\n",
       "      <td>Not Premium</td>\n",
       "      <td>Ajman Corniche Road, Ajman</td>\n",
       "      <td>2</td>\n",
       "      <td>2</td>\n",
       "      <td>1450.0</td>\n",
       "    </tr>\n",
       "    <tr>\n",
       "      <th>99863</th>\n",
       "      <td>Not Verified</td>\n",
       "      <td>Not Superagent</td>\n",
       "      <td>Apartment</td>\n",
       "      <td>47999.0</td>\n",
       "      <td>Three-Bedroom Apartment for Rent in Al Naimiyah2</td>\n",
       "      <td>Not Premium</td>\n",
       "      <td>Al Nuaimiya, Ajman</td>\n",
       "      <td>3</td>\n",
       "      <td>2</td>\n",
       "      <td>1550.0</td>\n",
       "    </tr>\n",
       "    <tr>\n",
       "      <th>99864</th>\n",
       "      <td>Not Verified</td>\n",
       "      <td>Not Superagent</td>\n",
       "      <td>Apartment</td>\n",
       "      <td>17000.0</td>\n",
       "      <td>Separate kitchen studio available with balcony...</td>\n",
       "      <td>Not Premium</td>\n",
       "      <td>Muwaileh, Sharjah</td>\n",
       "      <td>studio</td>\n",
       "      <td>1</td>\n",
       "      <td>450.0</td>\n",
       "    </tr>\n",
       "    <tr>\n",
       "      <th>99865</th>\n",
       "      <td>Not Verified</td>\n",
       "      <td>Not Superagent</td>\n",
       "      <td>Apartment</td>\n",
       "      <td>29000.0</td>\n",
       "      <td>Brand New Studio with Kitchen &amp;amp;Proper Wash...</td>\n",
       "      <td>Not Premium</td>\n",
       "      <td>Khalifa City, Abu Dhabi</td>\n",
       "      <td>studio</td>\n",
       "      <td>1</td>\n",
       "      <td>600.0</td>\n",
       "    </tr>\n",
       "    <tr>\n",
       "      <th>99866</th>\n",
       "      <td>Not Verified</td>\n",
       "      <td>Not Superagent</td>\n",
       "      <td>Apartment</td>\n",
       "      <td>41000.0</td>\n",
       "      <td>A luxury apartment Parking free for family Nea...</td>\n",
       "      <td>Not Premium</td>\n",
       "      <td>Al Nahda, Sharjah</td>\n",
       "      <td>1</td>\n",
       "      <td>2</td>\n",
       "      <td>1050.0</td>\n",
       "    </tr>\n",
       "  </tbody>\n",
       "</table>\n",
       "<p>99867 rows × 10 columns</p>\n",
       "</div>"
      ],
      "text/plain": [
       "      Verification Status      Agent Type Property Type  Rent Amount (AED/YR)  \\\n",
       "0                Verified      Superagent         Villa              500000.0   \n",
       "1                Verified      Superagent     Apartment              150000.0   \n",
       "2                Verified      Superagent         Villa              450000.0   \n",
       "3                Verified      Superagent         Villa              500000.0   \n",
       "4                Verified      Superagent     Townhouse              225000.0   \n",
       "...                   ...             ...           ...                   ...   \n",
       "99862        Not Verified  Not Superagent     Apartment               33999.0   \n",
       "99863        Not Verified  Not Superagent     Apartment               47999.0   \n",
       "99864        Not Verified  Not Superagent     Apartment               17000.0   \n",
       "99865        Not Verified  Not Superagent     Apartment               29000.0   \n",
       "99866        Not Verified  Not Superagent     Apartment               41000.0   \n",
       "\n",
       "                                                Features Listing Level  \\\n",
       "0           Brand New | Spacious | Modern | Garden Suite       Premium   \n",
       "1      Canal Views | Ready to Move in | Multiple Cheques       Premium   \n",
       "2        Biggest Plot | Corner Villa | New To The Market       Premium   \n",
       "3               Prime Location | Lake Views | Vacant Now       Premium   \n",
       "4              4-Story Townhouse | Upgraded | Vacant Now       Premium   \n",
       "...                                                  ...           ...   \n",
       "99862   Two-Bedroom Apartment for Rent in Ajman Corniche   Not Premium   \n",
       "99863   Three-Bedroom Apartment for Rent in Al Naimiyah2   Not Premium   \n",
       "99864  Separate kitchen studio available with balcony...   Not Premium   \n",
       "99865  Brand New Studio with Kitchen &amp;Proper Wash...   Not Premium   \n",
       "99866  A luxury apartment Parking free for family Nea...   Not Premium   \n",
       "\n",
       "                                                Location No of Bedroom  \\\n",
       "0               Harmony 2, Harmony, Tilal Al Ghaf, Dubai             4   \n",
       "1      Elite Business Bay Residence, Business Bay, Dubai             2   \n",
       "2                     Murooj Al Furjan, Al Furjan, Dubai             4   \n",
       "3                           Legacy, Jumeirah Park, Dubai             5   \n",
       "4      Mirabella 1, Mirabella, Jumeirah Village Circl...             4   \n",
       "...                                                  ...           ...   \n",
       "99862                         Ajman Corniche Road, Ajman             2   \n",
       "99863                                 Al Nuaimiya, Ajman             3   \n",
       "99864                                  Muwaileh, Sharjah        studio   \n",
       "99865                            Khalifa City, Abu Dhabi        studio   \n",
       "99866                                  Al Nahda, Sharjah             1   \n",
       "\n",
       "      No of Bathroom  Area in sqft  \n",
       "0                  5        4016.0  \n",
       "1                  3        1309.0  \n",
       "2                  5        7767.0  \n",
       "3                  6        4689.0  \n",
       "4                  5        3365.0  \n",
       "...              ...           ...  \n",
       "99862              2        1450.0  \n",
       "99863              2        1550.0  \n",
       "99864              1         450.0  \n",
       "99865              1         600.0  \n",
       "99866              2        1050.0  \n",
       "\n",
       "[99867 rows x 10 columns]"
      ]
     },
     "execution_count": 10,
     "metadata": {},
     "output_type": "execute_result"
    }
   ],
   "source": [
    "df.reset_index(drop=True, inplace=True)  # reseting the indices of the rows, and dropping the previous indices\n",
    "df"
   ]
  },
  {
   "cell_type": "code",
   "execution_count": 11,
   "id": "311ba539",
   "metadata": {},
   "outputs": [
    {
     "data": {
      "text/plain": [
       "(99867, 10)"
      ]
     },
     "metadata": {},
     "output_type": "display_data"
    }
   ],
   "source": [
    "display(df.shape)"
   ]
  },
  {
   "cell_type": "markdown",
   "id": "08625ee1",
   "metadata": {},
   "source": [
    ">The new shape of the dataframe is 99867 rows and 10 columns."
   ]
  },
  {
   "cell_type": "markdown",
   "id": "8bdb2025",
   "metadata": {},
   "source": [
    "### Exploring the value types"
   ]
  },
  {
   "cell_type": "markdown",
   "id": "878031e6",
   "metadata": {},
   "source": [
    "#### Verification types"
   ]
  },
  {
   "cell_type": "code",
   "execution_count": 12,
   "id": "f981c83d",
   "metadata": {},
   "outputs": [
    {
     "data": {
      "text/plain": [
       "Not Verified    76324\n",
       "Verified        23543\n",
       "Name: Verification Status, dtype: int64"
      ]
     },
     "metadata": {},
     "output_type": "display_data"
    }
   ],
   "source": [
    "verification_types = \"Verification Status\"\n",
    "display(df[verification_types].value_counts())"
   ]
  },
  {
   "cell_type": "markdown",
   "id": "8a7be87e",
   "metadata": {},
   "source": [
    "#### Agent types"
   ]
  },
  {
   "cell_type": "code",
   "execution_count": 13,
   "id": "4ea9498d",
   "metadata": {},
   "outputs": [
    {
     "name": "stdout",
     "output_type": "stream",
     "text": [
      "Not Superagent    70203\n",
      "Superagent        29664\n",
      "Name: Agent Type, dtype: int64\n"
     ]
    }
   ],
   "source": [
    "agent_types = \"Agent Type\"\n",
    "print(df[agent_types].value_counts())"
   ]
  },
  {
   "cell_type": "markdown",
   "id": "7f2ed967",
   "metadata": {},
   "source": [
    "#### Property types"
   ]
  },
  {
   "cell_type": "code",
   "execution_count": 14,
   "id": "3ce44888",
   "metadata": {},
   "outputs": [
    {
     "name": "stdout",
     "output_type": "stream",
     "text": [
      "Apartment                  73380\n",
      "Villa                      19219\n",
      "Townhouse                   5124\n",
      "Hotel & Hotel Apartment     1024\n",
      "Duplex                       549\n",
      "Penthouse                    389\n",
      "Compound                     146\n",
      "Bungalow                      21\n",
      "Full Floor                     9\n",
      "Half Floor                     3\n",
      "Bulk Rent Unit                 3\n",
      "Name: Property Type, dtype: int64\n"
     ]
    }
   ],
   "source": [
    "property_types = \"Property Type\"\n",
    "print(df[property_types].value_counts())"
   ]
  },
  {
   "cell_type": "markdown",
   "id": "f3f7db4c",
   "metadata": {},
   "source": [
    "#### Premiumness types"
   ]
  },
  {
   "cell_type": "code",
   "execution_count": 15,
   "id": "7fd427ea",
   "metadata": {},
   "outputs": [
    {
     "name": "stdout",
     "output_type": "stream",
     "text": [
      "Not Premium    88657\n",
      "Featured        6465\n",
      "Premium         4745\n",
      "Name: Listing Level, dtype: int64\n"
     ]
    }
   ],
   "source": [
    "premium_types = \"Listing Level\"\n",
    "print(df[premium_types].value_counts())"
   ]
  },
  {
   "cell_type": "markdown",
   "id": "b186d45c",
   "metadata": {},
   "source": [
    "#### Unique no of Bedrooms"
   ]
  },
  {
   "cell_type": "code",
   "execution_count": 16,
   "id": "323504c2",
   "metadata": {},
   "outputs": [
    {
     "name": "stdout",
     "output_type": "stream",
     "text": [
      "1                                                                                                      27620\n",
      "2                                                                                                      25872\n",
      "3                                                                                                      16761\n",
      "studio                                                                                                 10795\n",
      "4                                                                                                       9278\n",
      "5                                                                                                       6508\n",
      "6                                                                                                       1872\n",
      "7                                                                                                        742\n",
      "7+                                                                                                       400\n",
      "Al Khalidiya, Abu Dhabi                                                                                    1\n",
      "Binghatti Avenue, Al Jaddaf, Dubai                                                                         1\n",
      "Dubai Marina Mall Hotel, Dubai Marina, Dubai                                                               1\n",
      "The Fairways East, The Fairways, The Views, Dubai                                                          1\n",
      "Viridis B, Viridis Residence and Hotel Apartments, Damac Hills 2, Dubai                                    1\n",
      "The Bridge, Dubai Sports City, Dubai                                                                       1\n",
      "AZIZI Riviera, Meydan One, Meydan, Dubai                                                                   1\n",
      "Navitas Hotel and Residences, Damac Hills 2, Dubai                                                         1\n",
      "Spain Cluster, International City, Dubai                                                                   1\n",
      "The Address Residence Fountain Views 2, The Address Residence Fountain Views, Downtown Dubai, Dubai        1\n",
      "Jumeirah 1 Villas, Jumeirah 1, Jumeirah, Dubai                                                             1\n",
      "Zada Tower, Business Bay, Dubai                                                                            1\n",
      "Al Rawda 3, Al Rawda, Ajman                                                                                1\n",
      "Royal Breeze 4, Royal Breeze, Al Hamra Village, Ras Al Khaimah                                             1\n",
      "Al Bustan, Ajman                                                                                           1\n",
      "Jumeirah Park Homes, Jumeirah Park, Dubai                                                                  1\n",
      "8 Boulevard Walk, Mohammad Bin Rashid Boulevard, Downtown Dubai, Dubai                                     1\n",
      "Al Warqa'a 4, Al Warqa'a, Dubai                                                                            1\n",
      "Hayat Boulevard-2A, Hayat Boulevard, Town Square, Dubai                                                    1\n",
      "Name: No of Bedroom, dtype: int64\n"
     ]
    }
   ],
   "source": [
    "bedroom_count = \"No of Bedroom\"\n",
    "print(df[bedroom_count].value_counts())"
   ]
  },
  {
   "cell_type": "markdown",
   "id": "79c72f57",
   "metadata": {},
   "source": [
    ">To convert the _No of Bedrooms_ column into an integer type, replacing the studio type as having _1_ bedroom  and _7+_ bedrooms as _8_ bedrooms"
   ]
  },
  {
   "cell_type": "code",
   "execution_count": 17,
   "id": "5e9dee36",
   "metadata": {},
   "outputs": [
    {
     "data": {
      "text/plain": [
       "1    38415\n",
       "2    25872\n",
       "3    16761\n",
       "4     9278\n",
       "5     6508\n",
       "6     1872\n",
       "7      742\n",
       "8      400\n",
       "Name: No of Bedroom, dtype: int64"
      ]
     },
     "metadata": {},
     "output_type": "display_data"
    }
   ],
   "source": [
    "for row in range(len(df)):\n",
    "    try:\n",
    "        df[\"No of Bedroom\"][row] = int(df[\"No of Bedroom\"][row])\n",
    "    except Exception as e:\n",
    "        if df[\"No of Bedroom\"][row] == \"studio\":\n",
    "            df[\"No of Bedroom\"][row] = 1\n",
    "        elif df[\"No of Bedroom\"][row] == \"7+\":\n",
    "            df[\"No of Bedroom\"][row] = 8\n",
    "        else:\n",
    "            df = df.drop(index=row)\n",
    "    finally:\n",
    "        continue\n",
    "        \n",
    "display(df[\"No of Bedroom\"].value_counts()) # Checking the result of the operation"
   ]
  },
  {
   "cell_type": "markdown",
   "id": "e32c5fce",
   "metadata": {},
   "source": [
    "#### Converting the data types to integer for numerical calculations"
   ]
  },
  {
   "cell_type": "code",
   "execution_count": 18,
   "id": "23a436b7",
   "metadata": {},
   "outputs": [
    {
     "data": {
      "text/plain": [
       "dtype('int32')"
      ]
     },
     "metadata": {},
     "output_type": "display_data"
    }
   ],
   "source": [
    "df[\"No of Bedroom\"] = df[\"No of Bedroom\"].astype(int)\n",
    "display(df[\"No of Bedroom\"].dtypes)"
   ]
  },
  {
   "cell_type": "code",
   "execution_count": 19,
   "id": "e7b1a067",
   "metadata": {},
   "outputs": [],
   "source": [
    "df.reset_index(drop=True, inplace=True)"
   ]
  },
  {
   "cell_type": "markdown",
   "id": "3b4f90c5",
   "metadata": {},
   "source": [
    "#### Unique no of Bathrooms"
   ]
  },
  {
   "cell_type": "code",
   "execution_count": 20,
   "id": "bfb39343",
   "metadata": {},
   "outputs": [
    {
     "name": "stdout",
     "output_type": "stream",
     "text": [
      "2     28386\n",
      "1     21864\n",
      "3     17917\n",
      "4     13213\n",
      "5      7872\n",
      "6      4698\n",
      "7      3470\n",
      "7+     2428\n",
      "Name: No of Bathroom, dtype: int64\n"
     ]
    }
   ],
   "source": [
    "bathroom_count = \"No of Bathroom\"\n",
    "print(df[bathroom_count].value_counts())"
   ]
  },
  {
   "cell_type": "markdown",
   "id": "690e488d",
   "metadata": {},
   "source": [
    ">Converting the _No of Bathrooms_ column into an integer type; replacing the value _7+_ to _8_"
   ]
  },
  {
   "cell_type": "code",
   "execution_count": 21,
   "id": "bcd0e631",
   "metadata": {},
   "outputs": [],
   "source": [
    "for row in range(len(df)):\n",
    "    try:\n",
    "        df[\"No of Bathroom\"][row] = int(df[\"No of Bathroom\"][row])\n",
    "    except Exception as e:\n",
    "        if df[\"No of Bathroom\"][row] == \"7+\":\n",
    "            df[\"No of Bathroom\"][row] = 8\n",
    "    finally:\n",
    "        continue"
   ]
  },
  {
   "cell_type": "code",
   "execution_count": 22,
   "id": "ae2807e5",
   "metadata": {},
   "outputs": [
    {
     "data": {
      "text/plain": [
       "2    28386\n",
       "1    21864\n",
       "3    17917\n",
       "4    13213\n",
       "5     7872\n",
       "6     4698\n",
       "7     3470\n",
       "8     2428\n",
       "Name: No of Bathroom, dtype: int64"
      ]
     },
     "execution_count": 22,
     "metadata": {},
     "output_type": "execute_result"
    }
   ],
   "source": [
    "df[\"No of Bathroom\"].value_counts()  # Checking the result of the operation"
   ]
  },
  {
   "cell_type": "markdown",
   "id": "e121a3f9",
   "metadata": {},
   "source": [
    "#### Converting the data types to integer for numerical calculations"
   ]
  },
  {
   "cell_type": "code",
   "execution_count": 23,
   "id": "63197173",
   "metadata": {},
   "outputs": [
    {
     "data": {
      "text/plain": [
       "dtype('int32')"
      ]
     },
     "metadata": {},
     "output_type": "display_data"
    }
   ],
   "source": [
    "df[\"No of Bathroom\"] = df[\"No of Bathroom\"].astype(int)\n",
    "display(df[\"No of Bathroom\"].dtypes)"
   ]
  },
  {
   "cell_type": "code",
   "execution_count": 24,
   "id": "5e0db642",
   "metadata": {
    "scrolled": true
   },
   "outputs": [
    {
     "name": "stdout",
     "output_type": "stream",
     "text": [
      "<class 'pandas.core.frame.DataFrame'>\n",
      "RangeIndex: 99848 entries, 0 to 99847\n",
      "Data columns (total 10 columns):\n",
      " #   Column                Non-Null Count  Dtype  \n",
      "---  ------                --------------  -----  \n",
      " 0   Verification Status   99848 non-null  object \n",
      " 1   Agent Type            99848 non-null  object \n",
      " 2   Property Type         99848 non-null  object \n",
      " 3   Rent Amount (AED/YR)  99848 non-null  float64\n",
      " 4   Features              99848 non-null  object \n",
      " 5   Listing Level         99848 non-null  object \n",
      " 6   Location              99848 non-null  object \n",
      " 7   No of Bedroom         99848 non-null  int32  \n",
      " 8   No of Bathroom        99848 non-null  int32  \n",
      " 9   Area in sqft          99848 non-null  float64\n",
      "dtypes: float64(2), int32(2), object(6)\n",
      "memory usage: 6.9+ MB\n"
     ]
    }
   ],
   "source": [
    "df.info()"
   ]
  },
  {
   "cell_type": "markdown",
   "id": "fa05a519",
   "metadata": {},
   "source": [
    "### Working with the location data separately"
   ]
  },
  {
   "cell_type": "code",
   "execution_count": 25,
   "id": "97fe652f",
   "metadata": {},
   "outputs": [],
   "source": [
    "dfl = df[\"Location\"].copy()  # taking an independent copy of the column"
   ]
  },
  {
   "cell_type": "code",
   "execution_count": 26,
   "id": "cf9185b9",
   "metadata": {},
   "outputs": [
    {
     "data": {
      "text/plain": [
       "0                 Harmony 2, Harmony, Tilal Al Ghaf, Dubai\n",
       "1        Elite Business Bay Residence, Business Bay, Dubai\n",
       "2                       Murooj Al Furjan, Al Furjan, Dubai\n",
       "3                             Legacy, Jumeirah Park, Dubai\n",
       "4        Mirabella 1, Mirabella, Jumeirah Village Circl...\n",
       "                               ...                        \n",
       "99843                           Ajman Corniche Road, Ajman\n",
       "99844                                   Al Nuaimiya, Ajman\n",
       "99845                                    Muwaileh, Sharjah\n",
       "99846                              Khalifa City, Abu Dhabi\n",
       "99847                                    Al Nahda, Sharjah\n",
       "Name: Location, Length: 99848, dtype: object"
      ]
     },
     "execution_count": 26,
     "metadata": {},
     "output_type": "execute_result"
    }
   ],
   "source": [
    "dfl"
   ]
  },
  {
   "cell_type": "markdown",
   "id": "36f7725c",
   "metadata": {},
   "source": [
    "#### Separating the street, area and city information from the location data."
   ]
  },
  {
   "cell_type": "code",
   "execution_count": 27,
   "id": "7f877258",
   "metadata": {},
   "outputs": [],
   "source": [
    "temp_dic = {}\n",
    "street = []\n",
    "area = []\n",
    "city = []\n",
    "\n",
    "for address in range(len(dfl)):\n",
    "    add_set = dfl[address].split(\",\") # Common Operation\n",
    "    street.append(\",\".join(add_set[:-2])) # Street data\n",
    "    area.append(add_set[-2].strip()) # Area data\n",
    "    city.append(add_set[-1].strip()) # City data\n",
    "    \n",
    "\n",
    "temp_dic['Street'] = street\n",
    "temp_dic['Area'] = area\n",
    "temp_dic['City'] = city"
   ]
  },
  {
   "cell_type": "code",
   "execution_count": 28,
   "id": "e922e7d7",
   "metadata": {},
   "outputs": [
    {
     "data": {
      "text/plain": [
       "3"
      ]
     },
     "execution_count": 28,
     "metadata": {},
     "output_type": "execute_result"
    }
   ],
   "source": [
    "len(temp_dic)"
   ]
  },
  {
   "cell_type": "code",
   "execution_count": 29,
   "id": "7a5b728c",
   "metadata": {},
   "outputs": [
    {
     "data": {
      "text/plain": [
       "dict_keys(['Street', 'Area', 'City'])"
      ]
     },
     "execution_count": 29,
     "metadata": {},
     "output_type": "execute_result"
    }
   ],
   "source": [
    "temp_dic.keys()"
   ]
  },
  {
   "cell_type": "code",
   "execution_count": 30,
   "id": "a8809f0c",
   "metadata": {},
   "outputs": [],
   "source": [
    "df = df.assign(**temp_dic)  # appending the values in the main dataframe"
   ]
  },
  {
   "cell_type": "code",
   "execution_count": 31,
   "id": "96083ba1",
   "metadata": {},
   "outputs": [
    {
     "data": {
      "text/html": [
       "<div>\n",
       "<style scoped>\n",
       "    .dataframe tbody tr th:only-of-type {\n",
       "        vertical-align: middle;\n",
       "    }\n",
       "\n",
       "    .dataframe tbody tr th {\n",
       "        vertical-align: top;\n",
       "    }\n",
       "\n",
       "    .dataframe thead th {\n",
       "        text-align: right;\n",
       "    }\n",
       "</style>\n",
       "<table border=\"1\" class=\"dataframe\">\n",
       "  <thead>\n",
       "    <tr style=\"text-align: right;\">\n",
       "      <th></th>\n",
       "      <th>Verification Status</th>\n",
       "      <th>Agent Type</th>\n",
       "      <th>Property Type</th>\n",
       "      <th>Rent Amount (AED/YR)</th>\n",
       "      <th>Features</th>\n",
       "      <th>Listing Level</th>\n",
       "      <th>Location</th>\n",
       "      <th>No of Bedroom</th>\n",
       "      <th>No of Bathroom</th>\n",
       "      <th>Area in sqft</th>\n",
       "      <th>Street</th>\n",
       "      <th>Area</th>\n",
       "      <th>City</th>\n",
       "    </tr>\n",
       "  </thead>\n",
       "  <tbody>\n",
       "    <tr>\n",
       "      <th>0</th>\n",
       "      <td>Verified</td>\n",
       "      <td>Superagent</td>\n",
       "      <td>Villa</td>\n",
       "      <td>500000.0</td>\n",
       "      <td>Brand New | Spacious | Modern | Garden Suite</td>\n",
       "      <td>Premium</td>\n",
       "      <td>Harmony 2, Harmony, Tilal Al Ghaf, Dubai</td>\n",
       "      <td>4</td>\n",
       "      <td>5</td>\n",
       "      <td>4016.0</td>\n",
       "      <td>Harmony 2, Harmony</td>\n",
       "      <td>Tilal Al Ghaf</td>\n",
       "      <td>Dubai</td>\n",
       "    </tr>\n",
       "    <tr>\n",
       "      <th>1</th>\n",
       "      <td>Verified</td>\n",
       "      <td>Superagent</td>\n",
       "      <td>Apartment</td>\n",
       "      <td>150000.0</td>\n",
       "      <td>Canal Views | Ready to Move in | Multiple Cheques</td>\n",
       "      <td>Premium</td>\n",
       "      <td>Elite Business Bay Residence, Business Bay, Dubai</td>\n",
       "      <td>2</td>\n",
       "      <td>3</td>\n",
       "      <td>1309.0</td>\n",
       "      <td>Elite Business Bay Residence</td>\n",
       "      <td>Business Bay</td>\n",
       "      <td>Dubai</td>\n",
       "    </tr>\n",
       "    <tr>\n",
       "      <th>2</th>\n",
       "      <td>Verified</td>\n",
       "      <td>Superagent</td>\n",
       "      <td>Villa</td>\n",
       "      <td>450000.0</td>\n",
       "      <td>Biggest Plot | Corner Villa | New To The Market</td>\n",
       "      <td>Premium</td>\n",
       "      <td>Murooj Al Furjan, Al Furjan, Dubai</td>\n",
       "      <td>4</td>\n",
       "      <td>5</td>\n",
       "      <td>7767.0</td>\n",
       "      <td>Murooj Al Furjan</td>\n",
       "      <td>Al Furjan</td>\n",
       "      <td>Dubai</td>\n",
       "    </tr>\n",
       "    <tr>\n",
       "      <th>3</th>\n",
       "      <td>Verified</td>\n",
       "      <td>Superagent</td>\n",
       "      <td>Villa</td>\n",
       "      <td>500000.0</td>\n",
       "      <td>Prime Location | Lake Views | Vacant Now</td>\n",
       "      <td>Premium</td>\n",
       "      <td>Legacy, Jumeirah Park, Dubai</td>\n",
       "      <td>5</td>\n",
       "      <td>6</td>\n",
       "      <td>4689.0</td>\n",
       "      <td>Legacy</td>\n",
       "      <td>Jumeirah Park</td>\n",
       "      <td>Dubai</td>\n",
       "    </tr>\n",
       "    <tr>\n",
       "      <th>4</th>\n",
       "      <td>Verified</td>\n",
       "      <td>Superagent</td>\n",
       "      <td>Townhouse</td>\n",
       "      <td>225000.0</td>\n",
       "      <td>4-Story Townhouse | Upgraded | Vacant Now</td>\n",
       "      <td>Premium</td>\n",
       "      <td>Mirabella 1, Mirabella, Jumeirah Village Circl...</td>\n",
       "      <td>4</td>\n",
       "      <td>5</td>\n",
       "      <td>3365.0</td>\n",
       "      <td>Mirabella 1, Mirabella</td>\n",
       "      <td>Jumeirah Village Circle</td>\n",
       "      <td>Dubai</td>\n",
       "    </tr>\n",
       "    <tr>\n",
       "      <th>...</th>\n",
       "      <td>...</td>\n",
       "      <td>...</td>\n",
       "      <td>...</td>\n",
       "      <td>...</td>\n",
       "      <td>...</td>\n",
       "      <td>...</td>\n",
       "      <td>...</td>\n",
       "      <td>...</td>\n",
       "      <td>...</td>\n",
       "      <td>...</td>\n",
       "      <td>...</td>\n",
       "      <td>...</td>\n",
       "      <td>...</td>\n",
       "    </tr>\n",
       "    <tr>\n",
       "      <th>99843</th>\n",
       "      <td>Not Verified</td>\n",
       "      <td>Not Superagent</td>\n",
       "      <td>Apartment</td>\n",
       "      <td>33999.0</td>\n",
       "      <td>Two-Bedroom Apartment for Rent in Ajman Corniche</td>\n",
       "      <td>Not Premium</td>\n",
       "      <td>Ajman Corniche Road, Ajman</td>\n",
       "      <td>2</td>\n",
       "      <td>2</td>\n",
       "      <td>1450.0</td>\n",
       "      <td></td>\n",
       "      <td>Ajman Corniche Road</td>\n",
       "      <td>Ajman</td>\n",
       "    </tr>\n",
       "    <tr>\n",
       "      <th>99844</th>\n",
       "      <td>Not Verified</td>\n",
       "      <td>Not Superagent</td>\n",
       "      <td>Apartment</td>\n",
       "      <td>47999.0</td>\n",
       "      <td>Three-Bedroom Apartment for Rent in Al Naimiyah2</td>\n",
       "      <td>Not Premium</td>\n",
       "      <td>Al Nuaimiya, Ajman</td>\n",
       "      <td>3</td>\n",
       "      <td>2</td>\n",
       "      <td>1550.0</td>\n",
       "      <td></td>\n",
       "      <td>Al Nuaimiya</td>\n",
       "      <td>Ajman</td>\n",
       "    </tr>\n",
       "    <tr>\n",
       "      <th>99845</th>\n",
       "      <td>Not Verified</td>\n",
       "      <td>Not Superagent</td>\n",
       "      <td>Apartment</td>\n",
       "      <td>17000.0</td>\n",
       "      <td>Separate kitchen studio available with balcony...</td>\n",
       "      <td>Not Premium</td>\n",
       "      <td>Muwaileh, Sharjah</td>\n",
       "      <td>1</td>\n",
       "      <td>1</td>\n",
       "      <td>450.0</td>\n",
       "      <td></td>\n",
       "      <td>Muwaileh</td>\n",
       "      <td>Sharjah</td>\n",
       "    </tr>\n",
       "    <tr>\n",
       "      <th>99846</th>\n",
       "      <td>Not Verified</td>\n",
       "      <td>Not Superagent</td>\n",
       "      <td>Apartment</td>\n",
       "      <td>29000.0</td>\n",
       "      <td>Brand New Studio with Kitchen &amp;amp;Proper Wash...</td>\n",
       "      <td>Not Premium</td>\n",
       "      <td>Khalifa City, Abu Dhabi</td>\n",
       "      <td>1</td>\n",
       "      <td>1</td>\n",
       "      <td>600.0</td>\n",
       "      <td></td>\n",
       "      <td>Khalifa City</td>\n",
       "      <td>Abu Dhabi</td>\n",
       "    </tr>\n",
       "    <tr>\n",
       "      <th>99847</th>\n",
       "      <td>Not Verified</td>\n",
       "      <td>Not Superagent</td>\n",
       "      <td>Apartment</td>\n",
       "      <td>41000.0</td>\n",
       "      <td>A luxury apartment Parking free for family Nea...</td>\n",
       "      <td>Not Premium</td>\n",
       "      <td>Al Nahda, Sharjah</td>\n",
       "      <td>1</td>\n",
       "      <td>2</td>\n",
       "      <td>1050.0</td>\n",
       "      <td></td>\n",
       "      <td>Al Nahda</td>\n",
       "      <td>Sharjah</td>\n",
       "    </tr>\n",
       "  </tbody>\n",
       "</table>\n",
       "<p>99848 rows × 13 columns</p>\n",
       "</div>"
      ],
      "text/plain": [
       "      Verification Status      Agent Type Property Type  Rent Amount (AED/YR)  \\\n",
       "0                Verified      Superagent         Villa              500000.0   \n",
       "1                Verified      Superagent     Apartment              150000.0   \n",
       "2                Verified      Superagent         Villa              450000.0   \n",
       "3                Verified      Superagent         Villa              500000.0   \n",
       "4                Verified      Superagent     Townhouse              225000.0   \n",
       "...                   ...             ...           ...                   ...   \n",
       "99843        Not Verified  Not Superagent     Apartment               33999.0   \n",
       "99844        Not Verified  Not Superagent     Apartment               47999.0   \n",
       "99845        Not Verified  Not Superagent     Apartment               17000.0   \n",
       "99846        Not Verified  Not Superagent     Apartment               29000.0   \n",
       "99847        Not Verified  Not Superagent     Apartment               41000.0   \n",
       "\n",
       "                                                Features Listing Level  \\\n",
       "0           Brand New | Spacious | Modern | Garden Suite       Premium   \n",
       "1      Canal Views | Ready to Move in | Multiple Cheques       Premium   \n",
       "2        Biggest Plot | Corner Villa | New To The Market       Premium   \n",
       "3               Prime Location | Lake Views | Vacant Now       Premium   \n",
       "4              4-Story Townhouse | Upgraded | Vacant Now       Premium   \n",
       "...                                                  ...           ...   \n",
       "99843   Two-Bedroom Apartment for Rent in Ajman Corniche   Not Premium   \n",
       "99844   Three-Bedroom Apartment for Rent in Al Naimiyah2   Not Premium   \n",
       "99845  Separate kitchen studio available with balcony...   Not Premium   \n",
       "99846  Brand New Studio with Kitchen &amp;Proper Wash...   Not Premium   \n",
       "99847  A luxury apartment Parking free for family Nea...   Not Premium   \n",
       "\n",
       "                                                Location  No of Bedroom  \\\n",
       "0               Harmony 2, Harmony, Tilal Al Ghaf, Dubai              4   \n",
       "1      Elite Business Bay Residence, Business Bay, Dubai              2   \n",
       "2                     Murooj Al Furjan, Al Furjan, Dubai              4   \n",
       "3                           Legacy, Jumeirah Park, Dubai              5   \n",
       "4      Mirabella 1, Mirabella, Jumeirah Village Circl...              4   \n",
       "...                                                  ...            ...   \n",
       "99843                         Ajman Corniche Road, Ajman              2   \n",
       "99844                                 Al Nuaimiya, Ajman              3   \n",
       "99845                                  Muwaileh, Sharjah              1   \n",
       "99846                            Khalifa City, Abu Dhabi              1   \n",
       "99847                                  Al Nahda, Sharjah              1   \n",
       "\n",
       "       No of Bathroom  Area in sqft                        Street  \\\n",
       "0                   5        4016.0            Harmony 2, Harmony   \n",
       "1                   3        1309.0  Elite Business Bay Residence   \n",
       "2                   5        7767.0              Murooj Al Furjan   \n",
       "3                   6        4689.0                        Legacy   \n",
       "4                   5        3365.0        Mirabella 1, Mirabella   \n",
       "...               ...           ...                           ...   \n",
       "99843               2        1450.0                                 \n",
       "99844               2        1550.0                                 \n",
       "99845               1         450.0                                 \n",
       "99846               1         600.0                                 \n",
       "99847               2        1050.0                                 \n",
       "\n",
       "                          Area       City  \n",
       "0                Tilal Al Ghaf      Dubai  \n",
       "1                 Business Bay      Dubai  \n",
       "2                    Al Furjan      Dubai  \n",
       "3                Jumeirah Park      Dubai  \n",
       "4      Jumeirah Village Circle      Dubai  \n",
       "...                        ...        ...  \n",
       "99843      Ajman Corniche Road      Ajman  \n",
       "99844              Al Nuaimiya      Ajman  \n",
       "99845                 Muwaileh    Sharjah  \n",
       "99846             Khalifa City  Abu Dhabi  \n",
       "99847                 Al Nahda    Sharjah  \n",
       "\n",
       "[99848 rows x 13 columns]"
      ]
     },
     "execution_count": 31,
     "metadata": {},
     "output_type": "execute_result"
    }
   ],
   "source": [
    "df"
   ]
  },
  {
   "cell_type": "code",
   "execution_count": 32,
   "id": "4a5da973",
   "metadata": {},
   "outputs": [],
   "source": [
    "df.drop(columns='Location', inplace=True)  # dropping the location column to avoid redundancy"
   ]
  },
  {
   "cell_type": "code",
   "execution_count": 33,
   "id": "5f74a148",
   "metadata": {},
   "outputs": [
    {
     "name": "stdout",
     "output_type": "stream",
     "text": [
      "<class 'pandas.core.frame.DataFrame'>\n",
      "RangeIndex: 99848 entries, 0 to 99847\n",
      "Data columns (total 12 columns):\n",
      " #   Column                Non-Null Count  Dtype  \n",
      "---  ------                --------------  -----  \n",
      " 0   Verification Status   99848 non-null  object \n",
      " 1   Agent Type            99848 non-null  object \n",
      " 2   Property Type         99848 non-null  object \n",
      " 3   Rent Amount (AED/YR)  99848 non-null  float64\n",
      " 4   Features              99848 non-null  object \n",
      " 5   Listing Level         99848 non-null  object \n",
      " 6   No of Bedroom         99848 non-null  int32  \n",
      " 7   No of Bathroom        99848 non-null  int32  \n",
      " 8   Area in sqft          99848 non-null  float64\n",
      " 9   Street                99848 non-null  object \n",
      " 10  Area                  99848 non-null  object \n",
      " 11  City                  99848 non-null  object \n",
      "dtypes: float64(2), int32(2), object(8)\n",
      "memory usage: 8.4+ MB\n"
     ]
    },
    {
     "data": {
      "text/plain": [
       "(99848, 12)"
      ]
     },
     "metadata": {},
     "output_type": "display_data"
    }
   ],
   "source": [
    "df.info()\n",
    "display(df.shape)"
   ]
  },
  {
   "cell_type": "markdown",
   "id": "6404d6e2",
   "metadata": {},
   "source": [
    "> Finally, the new shape of the dataframe is _12_ columns and _999848_ rows"
   ]
  },
  {
   "cell_type": "code",
   "execution_count": 34,
   "id": "48f2bf4e",
   "metadata": {},
   "outputs": [
    {
     "data": {
      "text/plain": [
       "Dubai             54941\n",
       "Abu Dhabi         21632\n",
       "Sharjah           12021\n",
       "Ajman              7147\n",
       "Ras Al Khaimah     2381\n",
       "Al Ain             1632\n",
       "Fujairah             86\n",
       "Umm Al Quwain         8\n",
       "Name: City, dtype: int64"
      ]
     },
     "execution_count": 34,
     "metadata": {},
     "output_type": "execute_result"
    }
   ],
   "source": [
    "df['City'].value_counts()  # data count for each city"
   ]
  },
  {
   "cell_type": "markdown",
   "id": "64ec3b04",
   "metadata": {},
   "source": [
    "> Distribution of entries for the 8 cities"
   ]
  },
  {
   "cell_type": "code",
   "execution_count": 35,
   "id": "c17fedce",
   "metadata": {},
   "outputs": [
    {
     "data": {
      "text/html": [
       "<div>\n",
       "<style scoped>\n",
       "    .dataframe tbody tr th:only-of-type {\n",
       "        vertical-align: middle;\n",
       "    }\n",
       "\n",
       "    .dataframe tbody tr th {\n",
       "        vertical-align: top;\n",
       "    }\n",
       "\n",
       "    .dataframe thead th {\n",
       "        text-align: right;\n",
       "    }\n",
       "</style>\n",
       "<table border=\"1\" class=\"dataframe\">\n",
       "  <thead>\n",
       "    <tr style=\"text-align: right;\">\n",
       "      <th></th>\n",
       "      <th>Verification Status</th>\n",
       "      <th>Agent Type</th>\n",
       "      <th>Property Type</th>\n",
       "      <th>Rent Amount (AED/YR)</th>\n",
       "      <th>Features</th>\n",
       "      <th>Listing Level</th>\n",
       "      <th>No of Bedroom</th>\n",
       "      <th>No of Bathroom</th>\n",
       "      <th>Area in sqft</th>\n",
       "      <th>Street</th>\n",
       "      <th>Area</th>\n",
       "      <th>City</th>\n",
       "    </tr>\n",
       "  </thead>\n",
       "  <tbody>\n",
       "    <tr>\n",
       "      <th>0</th>\n",
       "      <td>Verified</td>\n",
       "      <td>Superagent</td>\n",
       "      <td>Villa</td>\n",
       "      <td>500000.0</td>\n",
       "      <td>Brand New | Spacious | Modern | Garden Suite</td>\n",
       "      <td>Premium</td>\n",
       "      <td>4</td>\n",
       "      <td>5</td>\n",
       "      <td>4016.0</td>\n",
       "      <td>Harmony 2, Harmony</td>\n",
       "      <td>Tilal Al Ghaf</td>\n",
       "      <td>Dubai</td>\n",
       "    </tr>\n",
       "    <tr>\n",
       "      <th>1</th>\n",
       "      <td>Verified</td>\n",
       "      <td>Superagent</td>\n",
       "      <td>Apartment</td>\n",
       "      <td>150000.0</td>\n",
       "      <td>Canal Views | Ready to Move in | Multiple Cheques</td>\n",
       "      <td>Premium</td>\n",
       "      <td>2</td>\n",
       "      <td>3</td>\n",
       "      <td>1309.0</td>\n",
       "      <td>Elite Business Bay Residence</td>\n",
       "      <td>Business Bay</td>\n",
       "      <td>Dubai</td>\n",
       "    </tr>\n",
       "    <tr>\n",
       "      <th>2</th>\n",
       "      <td>Verified</td>\n",
       "      <td>Superagent</td>\n",
       "      <td>Villa</td>\n",
       "      <td>450000.0</td>\n",
       "      <td>Biggest Plot | Corner Villa | New To The Market</td>\n",
       "      <td>Premium</td>\n",
       "      <td>4</td>\n",
       "      <td>5</td>\n",
       "      <td>7767.0</td>\n",
       "      <td>Murooj Al Furjan</td>\n",
       "      <td>Al Furjan</td>\n",
       "      <td>Dubai</td>\n",
       "    </tr>\n",
       "    <tr>\n",
       "      <th>3</th>\n",
       "      <td>Verified</td>\n",
       "      <td>Superagent</td>\n",
       "      <td>Villa</td>\n",
       "      <td>500000.0</td>\n",
       "      <td>Prime Location | Lake Views | Vacant Now</td>\n",
       "      <td>Premium</td>\n",
       "      <td>5</td>\n",
       "      <td>6</td>\n",
       "      <td>4689.0</td>\n",
       "      <td>Legacy</td>\n",
       "      <td>Jumeirah Park</td>\n",
       "      <td>Dubai</td>\n",
       "    </tr>\n",
       "    <tr>\n",
       "      <th>4</th>\n",
       "      <td>Verified</td>\n",
       "      <td>Superagent</td>\n",
       "      <td>Townhouse</td>\n",
       "      <td>225000.0</td>\n",
       "      <td>4-Story Townhouse | Upgraded | Vacant Now</td>\n",
       "      <td>Premium</td>\n",
       "      <td>4</td>\n",
       "      <td>5</td>\n",
       "      <td>3365.0</td>\n",
       "      <td>Mirabella 1, Mirabella</td>\n",
       "      <td>Jumeirah Village Circle</td>\n",
       "      <td>Dubai</td>\n",
       "    </tr>\n",
       "    <tr>\n",
       "      <th>...</th>\n",
       "      <td>...</td>\n",
       "      <td>...</td>\n",
       "      <td>...</td>\n",
       "      <td>...</td>\n",
       "      <td>...</td>\n",
       "      <td>...</td>\n",
       "      <td>...</td>\n",
       "      <td>...</td>\n",
       "      <td>...</td>\n",
       "      <td>...</td>\n",
       "      <td>...</td>\n",
       "      <td>...</td>\n",
       "    </tr>\n",
       "    <tr>\n",
       "      <th>99843</th>\n",
       "      <td>Not Verified</td>\n",
       "      <td>Not Superagent</td>\n",
       "      <td>Apartment</td>\n",
       "      <td>33999.0</td>\n",
       "      <td>Two-Bedroom Apartment for Rent in Ajman Corniche</td>\n",
       "      <td>Not Premium</td>\n",
       "      <td>2</td>\n",
       "      <td>2</td>\n",
       "      <td>1450.0</td>\n",
       "      <td></td>\n",
       "      <td>Ajman Corniche Road</td>\n",
       "      <td>Ajman</td>\n",
       "    </tr>\n",
       "    <tr>\n",
       "      <th>99844</th>\n",
       "      <td>Not Verified</td>\n",
       "      <td>Not Superagent</td>\n",
       "      <td>Apartment</td>\n",
       "      <td>47999.0</td>\n",
       "      <td>Three-Bedroom Apartment for Rent in Al Naimiyah2</td>\n",
       "      <td>Not Premium</td>\n",
       "      <td>3</td>\n",
       "      <td>2</td>\n",
       "      <td>1550.0</td>\n",
       "      <td></td>\n",
       "      <td>Al Nuaimiya</td>\n",
       "      <td>Ajman</td>\n",
       "    </tr>\n",
       "    <tr>\n",
       "      <th>99845</th>\n",
       "      <td>Not Verified</td>\n",
       "      <td>Not Superagent</td>\n",
       "      <td>Apartment</td>\n",
       "      <td>17000.0</td>\n",
       "      <td>Separate kitchen studio available with balcony...</td>\n",
       "      <td>Not Premium</td>\n",
       "      <td>1</td>\n",
       "      <td>1</td>\n",
       "      <td>450.0</td>\n",
       "      <td></td>\n",
       "      <td>Muwaileh</td>\n",
       "      <td>Sharjah</td>\n",
       "    </tr>\n",
       "    <tr>\n",
       "      <th>99846</th>\n",
       "      <td>Not Verified</td>\n",
       "      <td>Not Superagent</td>\n",
       "      <td>Apartment</td>\n",
       "      <td>29000.0</td>\n",
       "      <td>Brand New Studio with Kitchen &amp;amp;Proper Wash...</td>\n",
       "      <td>Not Premium</td>\n",
       "      <td>1</td>\n",
       "      <td>1</td>\n",
       "      <td>600.0</td>\n",
       "      <td></td>\n",
       "      <td>Khalifa City</td>\n",
       "      <td>Abu Dhabi</td>\n",
       "    </tr>\n",
       "    <tr>\n",
       "      <th>99847</th>\n",
       "      <td>Not Verified</td>\n",
       "      <td>Not Superagent</td>\n",
       "      <td>Apartment</td>\n",
       "      <td>41000.0</td>\n",
       "      <td>A luxury apartment Parking free for family Nea...</td>\n",
       "      <td>Not Premium</td>\n",
       "      <td>1</td>\n",
       "      <td>2</td>\n",
       "      <td>1050.0</td>\n",
       "      <td></td>\n",
       "      <td>Al Nahda</td>\n",
       "      <td>Sharjah</td>\n",
       "    </tr>\n",
       "  </tbody>\n",
       "</table>\n",
       "<p>99848 rows × 12 columns</p>\n",
       "</div>"
      ],
      "text/plain": [
       "      Verification Status      Agent Type Property Type  Rent Amount (AED/YR)  \\\n",
       "0                Verified      Superagent         Villa              500000.0   \n",
       "1                Verified      Superagent     Apartment              150000.0   \n",
       "2                Verified      Superagent         Villa              450000.0   \n",
       "3                Verified      Superagent         Villa              500000.0   \n",
       "4                Verified      Superagent     Townhouse              225000.0   \n",
       "...                   ...             ...           ...                   ...   \n",
       "99843        Not Verified  Not Superagent     Apartment               33999.0   \n",
       "99844        Not Verified  Not Superagent     Apartment               47999.0   \n",
       "99845        Not Verified  Not Superagent     Apartment               17000.0   \n",
       "99846        Not Verified  Not Superagent     Apartment               29000.0   \n",
       "99847        Not Verified  Not Superagent     Apartment               41000.0   \n",
       "\n",
       "                                                Features Listing Level  \\\n",
       "0           Brand New | Spacious | Modern | Garden Suite       Premium   \n",
       "1      Canal Views | Ready to Move in | Multiple Cheques       Premium   \n",
       "2        Biggest Plot | Corner Villa | New To The Market       Premium   \n",
       "3               Prime Location | Lake Views | Vacant Now       Premium   \n",
       "4              4-Story Townhouse | Upgraded | Vacant Now       Premium   \n",
       "...                                                  ...           ...   \n",
       "99843   Two-Bedroom Apartment for Rent in Ajman Corniche   Not Premium   \n",
       "99844   Three-Bedroom Apartment for Rent in Al Naimiyah2   Not Premium   \n",
       "99845  Separate kitchen studio available with balcony...   Not Premium   \n",
       "99846  Brand New Studio with Kitchen &amp;Proper Wash...   Not Premium   \n",
       "99847  A luxury apartment Parking free for family Nea...   Not Premium   \n",
       "\n",
       "       No of Bedroom  No of Bathroom  Area in sqft  \\\n",
       "0                  4               5        4016.0   \n",
       "1                  2               3        1309.0   \n",
       "2                  4               5        7767.0   \n",
       "3                  5               6        4689.0   \n",
       "4                  4               5        3365.0   \n",
       "...              ...             ...           ...   \n",
       "99843              2               2        1450.0   \n",
       "99844              3               2        1550.0   \n",
       "99845              1               1         450.0   \n",
       "99846              1               1         600.0   \n",
       "99847              1               2        1050.0   \n",
       "\n",
       "                             Street                     Area       City  \n",
       "0                Harmony 2, Harmony            Tilal Al Ghaf      Dubai  \n",
       "1      Elite Business Bay Residence             Business Bay      Dubai  \n",
       "2                  Murooj Al Furjan                Al Furjan      Dubai  \n",
       "3                            Legacy            Jumeirah Park      Dubai  \n",
       "4            Mirabella 1, Mirabella  Jumeirah Village Circle      Dubai  \n",
       "...                             ...                      ...        ...  \n",
       "99843                                    Ajman Corniche Road      Ajman  \n",
       "99844                                            Al Nuaimiya      Ajman  \n",
       "99845                                               Muwaileh    Sharjah  \n",
       "99846                                           Khalifa City  Abu Dhabi  \n",
       "99847                                               Al Nahda    Sharjah  \n",
       "\n",
       "[99848 rows x 12 columns]"
      ]
     },
     "execution_count": 35,
     "metadata": {},
     "output_type": "execute_result"
    }
   ],
   "source": [
    "df"
   ]
  },
  {
   "cell_type": "markdown",
   "id": "619f7d21",
   "metadata": {},
   "source": [
    "### <i>Taking the transformed dataframe and exporting as a CSV file for further usage</i>"
   ]
  },
  {
   "cell_type": "code",
   "execution_count": 36,
   "id": "cbfd349d",
   "metadata": {},
   "outputs": [],
   "source": [
    "df.to_csv('Property_Finder_Rent_Items_in_Abu_Dhabi_Transformed.csv', index=False)"
   ]
  }
 ],
 "metadata": {
  "kernelspec": {
   "display_name": "Python 3",
   "language": "python",
   "name": "python3"
  },
  "language_info": {
   "codemirror_mode": {
    "name": "ipython",
    "version": 3
   },
   "file_extension": ".py",
   "mimetype": "text/x-python",
   "name": "python",
   "nbconvert_exporter": "python",
   "pygments_lexer": "ipython3",
   "version": "3.8.8"
  }
 },
 "nbformat": 4,
 "nbformat_minor": 5
}
